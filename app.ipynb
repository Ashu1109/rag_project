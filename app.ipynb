{
 "cells": [
  {
   "cell_type": "code",
   "execution_count": 2,
   "metadata": {},
   "outputs": [
    {
     "name": "stdout",
     "output_type": "stream",
     "text": [
      "Requirement already satisfied: langchain-community in /usr/local/lib/python3.10/site-packages (0.3.12)\n",
      "Collecting langchain-community\n",
      "  Using cached langchain_community-0.3.13-py3-none-any.whl.metadata (2.9 kB)\n",
      "Requirement already satisfied: faiss-cpu in /usr/local/lib/python3.10/site-packages (1.9.0.post1)\n",
      "Requirement already satisfied: langchain-huggingface in /usr/local/lib/python3.10/site-packages (0.1.2)\n",
      "Requirement already satisfied: pymupdf in /usr/local/lib/python3.10/site-packages (1.25.1)\n",
      "Requirement already satisfied: tiktoken in /usr/local/lib/python3.10/site-packages (0.8.0)\n",
      "Requirement already satisfied: langchain-ollama in /usr/local/lib/python3.10/site-packages (0.2.1)\n",
      "Collecting langchain-ollama\n",
      "  Using cached langchain_ollama-0.2.2-py3-none-any.whl.metadata (1.9 kB)\n",
      "Requirement already satisfied: python-dotenv in /usr/local/lib/python3.10/site-packages (1.0.1)\n",
      "Requirement already satisfied: PyYAML>=5.3 in /usr/local/lib/python3.10/site-packages (from langchain-community) (6.0.2)\n",
      "Requirement already satisfied: SQLAlchemy<3,>=1.4 in /usr/local/lib/python3.10/site-packages (from langchain-community) (2.0.36)\n",
      "Requirement already satisfied: aiohttp<4.0.0,>=3.8.3 in /usr/local/lib/python3.10/site-packages (from langchain-community) (3.11.10)\n",
      "Requirement already satisfied: dataclasses-json<0.7,>=0.5.7 in /usr/local/lib/python3.10/site-packages (from langchain-community) (0.6.7)\n",
      "Requirement already satisfied: httpx-sse<0.5.0,>=0.4.0 in /usr/local/lib/python3.10/site-packages (from langchain-community) (0.4.0)\n",
      "Collecting langchain<0.4.0,>=0.3.13 (from langchain-community)\n",
      "  Using cached langchain-0.3.13-py3-none-any.whl.metadata (7.1 kB)\n",
      "Collecting langchain-core<0.4.0,>=0.3.27 (from langchain-community)\n",
      "  Using cached langchain_core-0.3.28-py3-none-any.whl.metadata (6.3 kB)\n",
      "Requirement already satisfied: langsmith<0.3,>=0.1.125 in /usr/local/lib/python3.10/site-packages (from langchain-community) (0.2.3)\n",
      "Requirement already satisfied: numpy<2,>=1.22.4 in /usr/local/lib/python3.10/site-packages (from langchain-community) (1.26.4)\n",
      "Requirement already satisfied: pydantic-settings<3.0.0,>=2.4.0 in /usr/local/lib/python3.10/site-packages (from langchain-community) (2.7.0)\n",
      "Requirement already satisfied: requests<3,>=2 in /usr/local/lib/python3.10/site-packages (from langchain-community) (2.32.3)\n",
      "Requirement already satisfied: tenacity!=8.4.0,<10,>=8.1.0 in /usr/local/lib/python3.10/site-packages (from langchain-community) (9.0.0)\n",
      "Requirement already satisfied: packaging in /Users/aayushkaayushumar/Library/Python/3.10/lib/python/site-packages (from faiss-cpu) (24.2)\n",
      "Requirement already satisfied: huggingface-hub>=0.23.0 in /usr/local/lib/python3.10/site-packages (from langchain-huggingface) (0.27.0)\n",
      "Requirement already satisfied: sentence-transformers>=2.6.0 in /usr/local/lib/python3.10/site-packages (from langchain-huggingface) (3.3.1)\n",
      "Requirement already satisfied: tokenizers>=0.19.1 in /usr/local/lib/python3.10/site-packages (from langchain-huggingface) (0.21.0)\n",
      "Requirement already satisfied: transformers>=4.39.0 in /usr/local/lib/python3.10/site-packages (from langchain-huggingface) (4.47.1)\n",
      "Requirement already satisfied: regex>=2022.1.18 in /usr/local/lib/python3.10/site-packages (from tiktoken) (2024.11.6)\n",
      "Requirement already satisfied: ollama<1,>=0.4.4 in /usr/local/lib/python3.10/site-packages (from langchain-ollama) (0.4.4)\n",
      "Requirement already satisfied: aiohappyeyeballs>=2.3.0 in /usr/local/lib/python3.10/site-packages (from aiohttp<4.0.0,>=3.8.3->langchain-community) (2.4.4)\n",
      "Requirement already satisfied: aiosignal>=1.1.2 in /usr/local/lib/python3.10/site-packages (from aiohttp<4.0.0,>=3.8.3->langchain-community) (1.3.2)\n",
      "Requirement already satisfied: async-timeout<6.0,>=4.0 in /usr/local/lib/python3.10/site-packages (from aiohttp<4.0.0,>=3.8.3->langchain-community) (4.0.3)\n",
      "Requirement already satisfied: attrs>=17.3.0 in /usr/local/lib/python3.10/site-packages (from aiohttp<4.0.0,>=3.8.3->langchain-community) (24.3.0)\n",
      "Requirement already satisfied: frozenlist>=1.1.1 in /usr/local/lib/python3.10/site-packages (from aiohttp<4.0.0,>=3.8.3->langchain-community) (1.5.0)\n",
      "Requirement already satisfied: multidict<7.0,>=4.5 in /usr/local/lib/python3.10/site-packages (from aiohttp<4.0.0,>=3.8.3->langchain-community) (6.1.0)\n",
      "Requirement already satisfied: propcache>=0.2.0 in /usr/local/lib/python3.10/site-packages (from aiohttp<4.0.0,>=3.8.3->langchain-community) (0.2.1)\n",
      "Requirement already satisfied: yarl<2.0,>=1.17.0 in /usr/local/lib/python3.10/site-packages (from aiohttp<4.0.0,>=3.8.3->langchain-community) (1.18.3)\n",
      "Requirement already satisfied: marshmallow<4.0.0,>=3.18.0 in /usr/local/lib/python3.10/site-packages (from dataclasses-json<0.7,>=0.5.7->langchain-community) (3.23.1)\n",
      "Requirement already satisfied: typing-inspect<1,>=0.4.0 in /usr/local/lib/python3.10/site-packages (from dataclasses-json<0.7,>=0.5.7->langchain-community) (0.9.0)\n",
      "Requirement already satisfied: filelock in /usr/local/lib/python3.10/site-packages (from huggingface-hub>=0.23.0->langchain-huggingface) (3.16.1)\n",
      "Requirement already satisfied: fsspec>=2023.5.0 in /usr/local/lib/python3.10/site-packages (from huggingface-hub>=0.23.0->langchain-huggingface) (2024.10.0)\n",
      "Requirement already satisfied: tqdm>=4.42.1 in /usr/local/lib/python3.10/site-packages (from huggingface-hub>=0.23.0->langchain-huggingface) (4.67.1)\n",
      "Requirement already satisfied: typing-extensions>=3.7.4.3 in /Users/aayushkaayushumar/Library/Python/3.10/lib/python/site-packages (from huggingface-hub>=0.23.0->langchain-huggingface) (4.12.2)\n",
      "Requirement already satisfied: langchain-text-splitters<0.4.0,>=0.3.3 in /usr/local/lib/python3.10/site-packages (from langchain<0.4.0,>=0.3.13->langchain-community) (0.3.3)\n",
      "Requirement already satisfied: pydantic<3.0.0,>=2.7.4 in /usr/local/lib/python3.10/site-packages (from langchain<0.4.0,>=0.3.13->langchain-community) (2.10.3)\n",
      "Requirement already satisfied: jsonpatch<2.0,>=1.33 in /usr/local/lib/python3.10/site-packages (from langchain-core<0.4.0,>=0.3.27->langchain-community) (1.33)\n",
      "Requirement already satisfied: httpx<1,>=0.23.0 in /usr/local/lib/python3.10/site-packages (from langsmith<0.3,>=0.1.125->langchain-community) (0.27.2)\n",
      "Requirement already satisfied: orjson<4.0.0,>=3.9.14 in /usr/local/lib/python3.10/site-packages (from langsmith<0.3,>=0.1.125->langchain-community) (3.10.12)\n",
      "Requirement already satisfied: requests-toolbelt<2.0.0,>=1.0.0 in /usr/local/lib/python3.10/site-packages (from langsmith<0.3,>=0.1.125->langchain-community) (1.0.0)\n",
      "Requirement already satisfied: charset-normalizer<4,>=2 in /usr/local/lib/python3.10/site-packages (from requests<3,>=2->langchain-community) (3.4.0)\n",
      "Requirement already satisfied: idna<4,>=2.5 in /usr/local/lib/python3.10/site-packages (from requests<3,>=2->langchain-community) (3.10)\n",
      "Requirement already satisfied: urllib3<3,>=1.21.1 in /usr/local/lib/python3.10/site-packages (from requests<3,>=2->langchain-community) (2.2.3)\n",
      "Requirement already satisfied: certifi>=2017.4.17 in /usr/local/lib/python3.10/site-packages (from requests<3,>=2->langchain-community) (2024.12.14)\n",
      "Requirement already satisfied: torch>=1.11.0 in /usr/local/lib/python3.10/site-packages (from sentence-transformers>=2.6.0->langchain-huggingface) (2.2.2)\n",
      "Requirement already satisfied: scikit-learn in /usr/local/lib/python3.10/site-packages (from sentence-transformers>=2.6.0->langchain-huggingface) (1.6.0)\n",
      "Requirement already satisfied: scipy in /usr/local/lib/python3.10/site-packages (from sentence-transformers>=2.6.0->langchain-huggingface) (1.14.1)\n",
      "Requirement already satisfied: Pillow in /usr/local/lib/python3.10/site-packages (from sentence-transformers>=2.6.0->langchain-huggingface) (11.0.0)\n",
      "Requirement already satisfied: greenlet!=0.4.17 in /usr/local/lib/python3.10/site-packages (from SQLAlchemy<3,>=1.4->langchain-community) (3.1.1)\n",
      "Requirement already satisfied: safetensors>=0.4.1 in /usr/local/lib/python3.10/site-packages (from transformers>=4.39.0->langchain-huggingface) (0.4.5)\n",
      "Requirement already satisfied: anyio in /usr/local/lib/python3.10/site-packages (from httpx<1,>=0.23.0->langsmith<0.3,>=0.1.125->langchain-community) (4.7.0)\n",
      "Requirement already satisfied: httpcore==1.* in /usr/local/lib/python3.10/site-packages (from httpx<1,>=0.23.0->langsmith<0.3,>=0.1.125->langchain-community) (1.0.7)\n",
      "Requirement already satisfied: sniffio in /usr/local/lib/python3.10/site-packages (from httpx<1,>=0.23.0->langsmith<0.3,>=0.1.125->langchain-community) (1.3.1)\n",
      "Requirement already satisfied: h11<0.15,>=0.13 in /usr/local/lib/python3.10/site-packages (from httpcore==1.*->httpx<1,>=0.23.0->langsmith<0.3,>=0.1.125->langchain-community) (0.14.0)\n",
      "Requirement already satisfied: jsonpointer>=1.9 in /usr/local/lib/python3.10/site-packages (from jsonpatch<2.0,>=1.33->langchain-core<0.4.0,>=0.3.27->langchain-community) (3.0.0)\n",
      "Requirement already satisfied: annotated-types>=0.6.0 in /usr/local/lib/python3.10/site-packages (from pydantic<3.0.0,>=2.7.4->langchain<0.4.0,>=0.3.13->langchain-community) (0.7.0)\n",
      "Requirement already satisfied: pydantic-core==2.27.1 in /usr/local/lib/python3.10/site-packages (from pydantic<3.0.0,>=2.7.4->langchain<0.4.0,>=0.3.13->langchain-community) (2.27.1)\n",
      "Requirement already satisfied: sympy in /usr/local/lib/python3.10/site-packages (from torch>=1.11.0->sentence-transformers>=2.6.0->langchain-huggingface) (1.13.3)\n",
      "Requirement already satisfied: networkx in /usr/local/lib/python3.10/site-packages (from torch>=1.11.0->sentence-transformers>=2.6.0->langchain-huggingface) (3.4.2)\n",
      "Requirement already satisfied: jinja2 in /usr/local/lib/python3.10/site-packages (from torch>=1.11.0->sentence-transformers>=2.6.0->langchain-huggingface) (3.1.4)\n",
      "Requirement already satisfied: mypy-extensions>=0.3.0 in /usr/local/lib/python3.10/site-packages (from typing-inspect<1,>=0.4.0->dataclasses-json<0.7,>=0.5.7->langchain-community) (1.0.0)\n",
      "Requirement already satisfied: joblib>=1.2.0 in /usr/local/lib/python3.10/site-packages (from scikit-learn->sentence-transformers>=2.6.0->langchain-huggingface) (1.4.2)\n",
      "Requirement already satisfied: threadpoolctl>=3.1.0 in /usr/local/lib/python3.10/site-packages (from scikit-learn->sentence-transformers>=2.6.0->langchain-huggingface) (3.5.0)\n",
      "Requirement already satisfied: exceptiongroup>=1.0.2 in /Users/aayushkaayushumar/Library/Python/3.10/lib/python/site-packages (from anyio->httpx<1,>=0.23.0->langsmith<0.3,>=0.1.125->langchain-community) (1.2.2)\n",
      "Requirement already satisfied: MarkupSafe>=2.0 in /usr/local/lib/python3.10/site-packages (from jinja2->torch>=1.11.0->sentence-transformers>=2.6.0->langchain-huggingface) (3.0.2)\n",
      "Requirement already satisfied: mpmath<1.4,>=1.1.0 in /usr/local/lib/python3.10/site-packages (from sympy->torch>=1.11.0->sentence-transformers>=2.6.0->langchain-huggingface) (1.3.0)\n",
      "Using cached langchain_community-0.3.13-py3-none-any.whl (2.5 MB)\n",
      "Using cached langchain_ollama-0.2.2-py3-none-any.whl (18 kB)\n",
      "Using cached langchain-0.3.13-py3-none-any.whl (1.0 MB)\n",
      "Using cached langchain_core-0.3.28-py3-none-any.whl (411 kB)\n",
      "Installing collected packages: langchain-core, langchain-ollama, langchain, langchain-community\n",
      "  Attempting uninstall: langchain-core\n",
      "    Found existing installation: langchain-core 0.3.25\n",
      "    Uninstalling langchain-core-0.3.25:\n",
      "      Successfully uninstalled langchain-core-0.3.25\n",
      "  Attempting uninstall: langchain-ollama\n",
      "    Found existing installation: langchain-ollama 0.2.1\n",
      "    Uninstalling langchain-ollama-0.2.1:\n",
      "      Successfully uninstalled langchain-ollama-0.2.1\n",
      "  Attempting uninstall: langchain\n",
      "    Found existing installation: langchain 0.3.12\n",
      "    Uninstalling langchain-0.3.12:\n",
      "      Successfully uninstalled langchain-0.3.12\n",
      "  Attempting uninstall: langchain-community\n",
      "    Found existing installation: langchain-community 0.3.12\n",
      "    Uninstalling langchain-community-0.3.12:\n",
      "      Successfully uninstalled langchain-community-0.3.12\n",
      "Successfully installed langchain-0.3.13 langchain-community-0.3.13 langchain-core-0.3.28 langchain-ollama-0.2.2\n",
      "\n",
      "\u001b[1m[\u001b[0m\u001b[34;49mnotice\u001b[0m\u001b[1;39;49m]\u001b[0m\u001b[39;49m A new release of pip is available: \u001b[0m\u001b[31;49m24.1.2\u001b[0m\u001b[39;49m -> \u001b[0m\u001b[32;49m24.3.1\u001b[0m\n",
      "\u001b[1m[\u001b[0m\u001b[34;49mnotice\u001b[0m\u001b[1;39;49m]\u001b[0m\u001b[39;49m To update, run: \u001b[0m\u001b[32;49mpython3.10 -m pip install --upgrade pip\u001b[0m\n",
      "Note: you may need to restart the kernel to use updated packages.\n"
     ]
    }
   ],
   "source": [
    "%pip install -U langchain-community faiss-cpu langchain-huggingface pymupdf tiktoken langchain-ollama python-dotenv"
   ]
  },
  {
   "cell_type": "code",
   "execution_count": 67,
   "metadata": {},
   "outputs": [
    {
     "data": {
      "text/plain": [
       "True"
      ]
     },
     "execution_count": 67,
     "metadata": {},
     "output_type": "execute_result"
    }
   ],
   "source": [
    "import os\n",
    "import warnings\n",
    "from dotenv import load_dotenv\n",
    "\n",
    "os.environ['KMP_DUPLICATE_LIB_OK'] = 'True'\n",
    "warnings.filterwarnings(\"ignore\")\n",
    "load_dotenv()"
   ]
  },
  {
   "cell_type": "code",
   "execution_count": 68,
   "metadata": {},
   "outputs": [],
   "source": [
    "from langchain_community.document_loaders import PyMuPDFLoader\n",
    "loader = PyMuPDFLoader(\"./rag_dataset/Rajasthan_GK_first_chapter_filtered.docx\")\n",
    "docs = loader.load()"
   ]
  },
  {
   "cell_type": "code",
   "execution_count": 69,
   "metadata": {},
   "outputs": [
    {
     "data": {
      "text/plain": [
       "{'source': './rag_dataset/Rajasthan_GK_first_chapter_filtered.docx',\n",
       " 'file_path': './rag_dataset/Rajasthan_GK_first_chapter_filtered.docx',\n",
       " 'page': 0,\n",
       " 'total_pages': 5,\n",
       " 'format': 'Office documen',\n",
       " 'title': '',\n",
       " 'author': '',\n",
       " 'subject': '',\n",
       " 'keywords': '',\n",
       " 'creator': '',\n",
       " 'producer': '',\n",
       " 'creationDate': '',\n",
       " 'modDate': '',\n",
       " 'trapped': '',\n",
       " 'encryption': ''}"
      ]
     },
     "execution_count": 69,
     "metadata": {},
     "output_type": "execute_result"
    }
   ],
   "source": [
    "docs[0].metadata"
   ]
  },
  {
   "cell_type": "code",
   "execution_count": 70,
   "metadata": {},
   "outputs": [
    {
     "data": {
      "text/plain": [
       "(13, 5)"
      ]
     },
     "execution_count": 70,
     "metadata": {},
     "output_type": "execute_result"
    }
   ],
   "source": [
    "from langchain_text_splitters import RecursiveCharacterTextSplitter\n",
    "text_splitter = RecursiveCharacterTextSplitter(\n",
    "    chunk_size=1000,\n",
    "    chunk_overlap=100,\n",
    ")\n",
    "chunks = text_splitter.split_documents(docs)\n",
    "len(chunks),len(docs)"
   ]
  },
  {
   "cell_type": "code",
   "execution_count": 71,
   "metadata": {},
   "outputs": [
    {
     "data": {
      "text/plain": [
       "(637, 276)"
      ]
     },
     "execution_count": 71,
     "metadata": {},
     "output_type": "execute_result"
    }
   ],
   "source": [
    "import tiktoken\n",
    "encoding = tiktoken.encoding_for_model(\"gpt-4o-mini\")\n",
    "len(encoding.encode(docs[0].page_content)),len(encoding.encode(chunks[0].page_content))"
   ]
  },
  {
   "cell_type": "markdown",
   "metadata": {},
   "source": [
    "## Document Vector Embedding"
   ]
  },
  {
   "cell_type": "code",
   "execution_count": 72,
   "metadata": {},
   "outputs": [],
   "source": [
    "from langchain_ollama import OllamaEmbeddings\n",
    "import faiss\n",
    "from langchain_community.vectorstores import FAISS\n",
    "from langchain_community.docstore.in_memory import InMemoryDocstore"
   ]
  },
  {
   "cell_type": "code",
   "execution_count": 73,
   "metadata": {},
   "outputs": [],
   "source": [
    "embeddings = OllamaEmbeddings(\n",
    "    model=\"nomic-embed-text\",\n",
    "    base_url=\"http://localhost:11434/\",\n",
    ")\n",
    "single_vector = embeddings.embed_query(\"HELLO WORLD !\")"
   ]
  },
  {
   "cell_type": "code",
   "execution_count": 74,
   "metadata": {},
   "outputs": [
    {
     "data": {
      "text/plain": [
       "768"
      ]
     },
     "execution_count": 74,
     "metadata": {},
     "output_type": "execute_result"
    }
   ],
   "source": [
    "len(single_vector)"
   ]
  },
  {
   "cell_type": "code",
   "execution_count": 75,
   "metadata": {},
   "outputs": [
    {
     "data": {
      "text/plain": [
       "(0, 768)"
      ]
     },
     "execution_count": 75,
     "metadata": {},
     "output_type": "execute_result"
    }
   ],
   "source": [
    "index = faiss.IndexFlatL2(len(single_vector))\n",
    "index.ntotal,index.d"
   ]
  },
  {
   "cell_type": "code",
   "execution_count": 77,
   "metadata": {},
   "outputs": [],
   "source": [
    "vector_store = FAISS(\n",
    "    embedding_function=embeddings,\n",
    "    index=index,\n",
    "    docstore=InMemoryDocstore(),\n",
    "    index_to_docstore_id={}\n",
    ")"
   ]
  },
  {
   "cell_type": "code",
   "execution_count": 78,
   "metadata": {},
   "outputs": [],
   "source": [
    "ids = vector_store.add_documents(chunks)"
   ]
  },
  {
   "cell_type": "code",
   "execution_count": 79,
   "metadata": {},
   "outputs": [
    {
     "data": {
      "text/plain": [
       "13"
      ]
     },
     "execution_count": 79,
     "metadata": {},
     "output_type": "execute_result"
    }
   ],
   "source": [
    "len(vector_store.index_to_docstore_id)"
   ]
  },
  {
   "cell_type": "code",
   "execution_count": 80,
   "metadata": {},
   "outputs": [],
   "source": [
    "db_name = \"rag_dataset\"\n",
    "vector_store.save_local(db_name)"
   ]
  },
  {
   "cell_type": "code",
   "execution_count": 81,
   "metadata": {},
   "outputs": [
    {
     "data": {
      "text/plain": [
       "13"
      ]
     },
     "execution_count": 81,
     "metadata": {},
     "output_type": "execute_result"
    }
   ],
   "source": [
    "new_vector_store = FAISS.load_local(db_name,embeddings=embeddings,allow_dangerous_deserialization=True)\n",
    "len(new_vector_store.index_to_docstore_id)"
   ]
  },
  {
   "cell_type": "code",
   "execution_count": 119,
   "metadata": {},
   "outputs": [
    {
     "data": {
      "text/plain": [
       "[Document(id='6246b5a5-acfe-4391-84f7-8c827c586fe3', metadata={'source': './rag_dataset/Rajasthan_GK_first_chapter_filtered.docx', 'file_path': './rag_dataset/Rajasthan_GK_first_chapter_filtered.docx', 'page': 3, 'total_pages': 5, 'format': 'Office documen', 'title': '', 'author': '', 'subject': '', 'keywords': '', 'creator': '', 'producer': '', 'creationDate': '', 'modDate': '', 'trapped': '', 'encryption': ''}, page_content='invasion led by Mihirkul almost destroyed the already fragile lack\\nof authority situation. Yashovarman of Malva was successful in\\ndefeating Shakas or Hunas in 532 AD, which brought peace to the\\nregion but the region could never emerge out of the devastation. e\\nRajasthan was constantly in the process of cultural infusion from\\noutside and by 6™ century the foreigners got so much mingled with\\nthe locals that it gets hard to tell the difference since then. Previous\\nYear Questions Q. Ancient city which is mentioned in both\\nMahabharata and Mahabhashya? (RAS Pre 2016) A. Virat nagar\\n(Bairath) B. Madhyamika (Nagri) C. Red D. Kakort Q. During which'),\n",
       " Document(id='9f5edfc5-21dc-4ee7-8062-f9d8a261c76b', metadata={'source': './rag_dataset/Rajasthan_GK_first_chapter_filtered.docx', 'file_path': './rag_dataset/Rajasthan_GK_first_chapter_filtered.docx', 'page': 3, 'total_pages': 5, 'format': 'Office documen', 'title': '', 'author': '', 'subject': '', 'keywords': '', 'creator': '', 'producer': '', 'creationDate': '', 'modDate': '', 'trapped': '', 'encryption': ''}, page_content='Naagda, Eran, Kaytha etc. Bairath civilization: e The region around\\nJaipur is identified with the region as the capital Viratnagar of\\nMatsya Janpada. e The primitive hills of this region are Bijak\\nDungri, Moti Dungri, Bhim Dungri etc. The Bhabru Edict of Ashoka\\nwas discovered by Captain Bert on Bijak Dungri. e Buddhism:\\nremains of Stupa and Budda temple (Gol Mandir). e Chinese pilgrim\\nHuen-tsang has also mentioned Bairath in his records. Other\\ncivilizations found in Ganeshwarm Khetri, Dariba, Ojhiyana, Kurada\\netc also contains evidences such as copper tools and weapons.\\nSunari, Iswal, Jodhpura, Red etc belong to the Iron Age civilization.\\nRajasthan in Post-Gupta Age: e After the fall of Gupta Empire there\\nwas a deficiency in the central power and the republics of\\nrajastahan declared them independent. e There were constant\\nattacks from the invaders and from within the region. The Shaka\\ninvasion led by Mihirkul almost destroyed the already fragile lack'),\n",
       " Document(id='c5f75f39-1518-40a9-bc23-4b62b8304d90', metadata={'source': './rag_dataset/Rajasthan_GK_first_chapter_filtered.docx', 'file_path': './rag_dataset/Rajasthan_GK_first_chapter_filtered.docx', 'page': 3, 'total_pages': 5, 'format': 'Office documen', 'title': '', 'author': '', 'subject': '', 'keywords': '', 'creator': '', 'producer': '', 'creationDate': '', 'modDate': '', 'trapped': '', 'encryption': ''}, page_content='Originated in the Ayar river valley region in south-western\\nRajasthan around 4000 years ago. The region was constantly\\nflourished and destroyed till the 18\" century. SP-21, Above Canara\\nBank, Near Riddhi-Siddhi Chauraha, Gopalpura Bypass,\\nJaipur-9875170111, 9414988860\\nSamyak Raj. His. Art & Cult. (Mains-2018) An Institute For Civil\\nServices 5 e It was part of the Banas river civilization. This region\\nflourished due to presence of copper mines in the surrounding\\nregion. The Dhulkot excavation site has found so far copper axes,\\ntools, bones and Bamboo parts. e City Plan: The houses were\\nplanned to have open space and open streets. The presence of 4 to 6\\nChulhas represents presence of large families. e Trade and relations:\\nPresence of Greek coins belonging to 3 to 1\" century BC from\\nBagore and surrounding region. The civilization also kept close\\ncontacts with peripheral regions such as Navdatoli, Harappa,\\nNaagda, Eran, Kaytha etc. Bairath civilization: e The region around'),\n",
       " Document(id='bfafc77f-0e78-4ce3-92e7-3622dc3330d5', metadata={'source': './rag_dataset/Rajasthan_GK_first_chapter_filtered.docx', 'file_path': './rag_dataset/Rajasthan_GK_first_chapter_filtered.docx', 'page': 2, 'total_pages': 5, 'format': 'Office documen', 'title': '', 'author': '', 'subject': '', 'keywords': '', 'creator': '', 'producer': '', 'creationDate': '', 'modDate': '', 'trapped': '', 'encryption': ''}, page_content='Pragvat. e Maru: the region aroung Jodhpur state; the southern part\\nwas known as Gurjaratra. e WVangad: Dungarpur, Banswara region;\\ne Aburd: Sirohi state e Maad: Jaisalmer state e Hadoti: Kota and\\nBundi state ¢ Malay: Parts of southern Jhalawar Ancient\\nCivilisations e There is no evidence for when and how humans at\\nfirst place emerged in Rajasthan, but the ancient remains have been\\nfound in the many regions and river vallys i.e. Ajmer, Alwar,\\nChittorgarh, Bhilwara, Jaipur, Pali, Tonk etc. e Palaeo lithic age:\\nChittor and surrounding region has most abundant bunch of tools\\nbelonging to this region. The Luni Basin also contains remnants for\\nthis era. e Meso-lithic age: Luni and its tributaries, Bedach and its\\ntributaries in Chittor. e Neo-lithic age: Bagore and Tilwara; Ajmer,\\nNagore, Sikar, Kota, Bundi, Tonk etc. Bronz-Age (Kalibanga): e This\\nregion was situated in current day Hanumangarh on the shore of\\nancient rivers of Sararwati and Drishdwati around 2400-2250 BC. e')]"
      ]
     },
     "execution_count": 119,
     "metadata": {},
     "output_type": "execute_result"
    }
   ],
   "source": [
    "question = \"Ancient city which is mentioned in both Mahabharata and Mahabhashya?(RAS Pre 2016)A. Virat nagar (Bairath)B. Madhyamika (Nagri)C. RedD. Kakort\"\n",
    "question_vector = new_vector_store.search(query=question,search_type=\"similarity\")\n",
    "question_vector"
   ]
  },
  {
   "cell_type": "code",
   "execution_count": 120,
   "metadata": {},
   "outputs": [
    {
     "name": "stdout",
     "output_type": "stream",
     "text": [
      "invasion led by Mihirkul almost destroyed the already fragile lack\n",
      "of authority situation. Yashovarman of Malva was successful in\n",
      "defeating Shakas or Hunas in 532 AD, which brought peace to the\n",
      "region but the region could never emerge out of the devastation. e\n",
      "Rajasthan was constantly in the process of cultural infusion from\n",
      "outside and by 6™ century the foreigners got so much mingled with\n",
      "the locals that it gets hard to tell the difference since then. Previous\n",
      "Year Questions Q. Ancient city which is mentioned in both\n",
      "Mahabharata and Mahabhashya? (RAS Pre 2016) A. Virat nagar\n",
      "(Bairath) B. Madhyamika (Nagri) C. Red D. Kakort Q. During which\n",
      "\n",
      "\n",
      "\n",
      "Naagda, Eran, Kaytha etc. Bairath civilization: e The region around\n",
      "Jaipur is identified with the region as the capital Viratnagar of\n",
      "Matsya Janpada. e The primitive hills of this region are Bijak\n",
      "Dungri, Moti Dungri, Bhim Dungri etc. The Bhabru Edict of Ashoka\n",
      "was discovered by Captain Bert on Bijak Dungri. e Buddhism:\n",
      "remains of Stupa and Budda temple (Gol Mandir). e Chinese pilgrim\n",
      "Huen-tsang has also mentioned Bairath in his records. Other\n",
      "civilizations found in Ganeshwarm Khetri, Dariba, Ojhiyana, Kurada\n",
      "etc also contains evidences such as copper tools and weapons.\n",
      "Sunari, Iswal, Jodhpura, Red etc belong to the Iron Age civilization.\n",
      "Rajasthan in Post-Gupta Age: e After the fall of Gupta Empire there\n",
      "was a deficiency in the central power and the republics of\n",
      "rajastahan declared them independent. e There were constant\n",
      "attacks from the invaders and from within the region. The Shaka\n",
      "invasion led by Mihirkul almost destroyed the already fragile lack\n",
      "\n",
      "\n",
      "\n",
      "Originated in the Ayar river valley region in south-western\n",
      "Rajasthan around 4000 years ago. The region was constantly\n",
      "flourished and destroyed till the 18\" century. SP-21, Above Canara\n",
      "Bank, Near Riddhi-Siddhi Chauraha, Gopalpura Bypass,\n",
      "Jaipur-9875170111, 9414988860\n",
      "Samyak Raj. His. Art & Cult. (Mains-2018) An Institute For Civil\n",
      "Services 5 e It was part of the Banas river civilization. This region\n",
      "flourished due to presence of copper mines in the surrounding\n",
      "region. The Dhulkot excavation site has found so far copper axes,\n",
      "tools, bones and Bamboo parts. e City Plan: The houses were\n",
      "planned to have open space and open streets. The presence of 4 to 6\n",
      "Chulhas represents presence of large families. e Trade and relations:\n",
      "Presence of Greek coins belonging to 3 to 1\" century BC from\n",
      "Bagore and surrounding region. The civilization also kept close\n",
      "contacts with peripheral regions such as Navdatoli, Harappa,\n",
      "Naagda, Eran, Kaytha etc. Bairath civilization: e The region around\n",
      "\n",
      "\n",
      "\n",
      "Pragvat. e Maru: the region aroung Jodhpur state; the southern part\n",
      "was known as Gurjaratra. e WVangad: Dungarpur, Banswara region;\n",
      "e Aburd: Sirohi state e Maad: Jaisalmer state e Hadoti: Kota and\n",
      "Bundi state ¢ Malay: Parts of southern Jhalawar Ancient\n",
      "Civilisations e There is no evidence for when and how humans at\n",
      "first place emerged in Rajasthan, but the ancient remains have been\n",
      "found in the many regions and river vallys i.e. Ajmer, Alwar,\n",
      "Chittorgarh, Bhilwara, Jaipur, Pali, Tonk etc. e Palaeo lithic age:\n",
      "Chittor and surrounding region has most abundant bunch of tools\n",
      "belonging to this region. The Luni Basin also contains remnants for\n",
      "this era. e Meso-lithic age: Luni and its tributaries, Bedach and its\n",
      "tributaries in Chittor. e Neo-lithic age: Bagore and Tilwara; Ajmer,\n",
      "Nagore, Sikar, Kota, Bundi, Tonk etc. Bronz-Age (Kalibanga): e This\n",
      "region was situated in current day Hanumangarh on the shore of\n",
      "ancient rivers of Sararwati and Drishdwati around 2400-2250 BC. e\n",
      "\n",
      "\n",
      "\n"
     ]
    }
   ],
   "source": [
    "for doc in question_vector:\n",
    "    print(doc.page_content)\n",
    "    print(\"\\n\\n\")"
   ]
  },
  {
   "cell_type": "code",
   "execution_count": 112,
   "metadata": {},
   "outputs": [],
   "source": [
    "from langchain import hub\n",
    "from langchain_core.output_parsers import StrOutputParser\n",
    "from langchain_core.runnables import RunnablePassthrough\n",
    "from langchain_core.prompts import ChatPromptTemplate\n",
    "from langchain_ollama import ChatOllama"
   ]
  },
  {
   "cell_type": "code",
   "execution_count": 113,
   "metadata": {},
   "outputs": [],
   "source": [
    "model = ChatOllama(\n",
    "    model=\"llama3.2\",\n",
    "    base_url=\"http://localhost:11434/\",\n",
    ")"
   ]
  },
  {
   "cell_type": "code",
   "execution_count": 121,
   "metadata": {},
   "outputs": [],
   "source": [
    "prompt = \"\"\"\n",
    "You are an assistant for question-answering tasks. Use the following pieces of retrieved context to answer the question. If you don't know the answer, just say that you don't know. Use bullet points and keep the answer.\n",
    "Question: {question} \n",
    "Context: {context} \n",
    "Answer:\n",
    "\"\"\"\n",
    "prompt  = ChatPromptTemplate.from_template(prompt)"
   ]
  },
  {
   "cell_type": "code",
   "execution_count": 122,
   "metadata": {},
   "outputs": [
    {
     "name": "stdout",
     "output_type": "stream",
     "text": [
      "An Institute For Civil Services fafact Gat ait dant at aaftia un wate\n",
      "deat RAS MAINS - 2018 PAPER -I Rajasthan History Art & Culture\n",
      "Tea & sfrera A ww ayaa Tee Hea, Uh AS Veet UNA H ATA Woe at\n",
      "wh ater a .... © SP-21, Above Canara Bank, Ridhi-Sidhi Chauraha,\n",
      "Gopalpura Bypass, Jaipur (© 9875170111, 9414988860 BX\n",
      "samyakjaipur@gmail.com @ www.samyakias.com @} SAMYAK-An\n",
      "Institute For Civil Services\n",
      "Samyak Raj. His. Art & Cult. (Mains-2018) An Institute For Civil\n",
      "Services 2 Content S.N, | Chapters 1 Ancient History of Rajasthan 2\n",
      "Orogin of Rajputs and resistance to Turk Invasion 3 Rise of Mewar\n",
      "Under the Sisodias 4 Relations of the Rajput states with the\n",
      "Mughals 5 Administrative and Revenue System in Rajasthan 6\n",
      "Freedom struggle of 1857 and Rajasthan 7 Various Stages in the\n",
      "Formation of Rajasthan 8 Revolutionary movements in Rajasthan 9\n",
      "Organization of the Prajamandals in various states 10 | Famous\n",
      "Peasant Movement in Rajasthan 11 | Social and Religious reforms in\n",
      "Rajasthan 12. | Heritage of Rajsthan 13.__‘| Rajasthani Literature\n",
      "and Dialects 14. ‘| Saints Lok Devi Devtas of Rajasthan SP-21,\n",
      "Above Canara Bank, Near Riddhi-Siddhi Chauraha, Gopalpura\n",
      "Bypass, Jaipur-9875170111, 9414988860\n",
      "Samyak Raj. His. Art & Cult. (Mains-2018) An Institute For Civil\n",
      "Services 3 Chapter : 1 —: Ancient History of Rajasthan :— The\n",
      "desert land of rajasthan has been birth place of ancient Stone Age,\n",
      "Indus age and copper age civilizations of Kalibanga, Bairath, Ahar\n",
      "and Ganehswar. The evidences have been found at these places for\n",
      "development of an ancient civilization. The evidence of human\n",
      "habitations can be seen in these civilizations which also gives proof\n",
      "for Mesolithic and Neolithic history. Aryan History of rajasthan\n",
      "Rivers like Sararvati and Drushdwati has been a shelter for Aryans\n",
      "and they established Aryan settlements in the Doab region. The\n",
      "hymns for Indra and Soma in the Vedic literature, the rules framed\n",
      "for Yajnas and their importance was all composed in the these river\n",
      "vallys. The texts of Mahabharata and Puranas talk about the Jangal\n",
      "(Bikaner) and Marukantar (Marvar) were associated with Krishna\n",
      "and Balram, who belonged to the Yadava branch of Aryans. Age of\n",
      "Janpada The tribes of Shivi, Malav and Arjunay belonging to\n",
      "southern Punjab, came to Rajasthan as to recover and preserve their\n",
      "\n",
      "\n",
      "independence after the invasion of Alaxander. Those who stayed\n",
      "established the Matsya and Rajanya Janpada of Bharatpur, Shivi\n",
      "Janpada of Nagri and Shalva Janpada of Alwar. The period between\n",
      "300 BC to 300 AD was dominated by Malav, Arjunay and shivi in\n",
      "Rajasthan. Jaipur region was the main centre of power of Malavas\n",
      "which later on spread to Ajmer, Tonk and Mewar region. In\n",
      "Bratapur-Alwar region the Arjunaya dominated and Yodheya\n",
      "formed a republic state in the northern Rajasthan in northern\n",
      "Rajasthan. From the second century BC, Rajasthan fell under the\n",
      "influence of Buddhism but the Hinduism got promoted by\n",
      "infiltration of these tribes. The republic democracy emerged in\n",
      "these small Janpadas could not survive for long and got eroded due\n",
      "to attacks from the invaders and Indian Kings. Mauryas and\n",
      "Rajasthan Some part of rajasthan was under the reign of Mauryas,\n",
      "the Ashokan rock edict at Bairath and the temples built by his\n",
      "successors confirms their dominience and influence. According to\n",
      "Kumara Prabandh and other Jain scriptures, the Chitranga Sarovar,\n",
      "Mansarovar near chittor and Chittorgarh fort was built by Mauryan\n",
      "king Chitrangad. Edict near Kota in Kanasva from 795 AD mentions\n",
      "Mauryan king Dhawal. After the death of Harshvardhan, the\n",
      "political unity of India started eroding. In this era many new\n",
      "Janpadas started emerging, Rajput dynasties started to establish\n",
      "their states. The Pratihar and Rathors of Marvar, Guhils of Mewar,\n",
      "Chauhans of Sambhar, Kachhwahas of Amer and Bhatis of Jaisalmer\n",
      "were the major tribes of Rajput emerged more influential. ¢ The\n",
      "scholars theorise on the basis of rock edicts that, around 6\" century\n",
      "AD, the Pratihars ruled in the region surrounding Mandor, which\n",
      "later was succeded by the Rathors. e Around the same time\n",
      "Chauhans started to establish their influence in Sambhar region and\n",
      "later became very strong. ¢ During 5\" and 6\" century AD the Guhils\n",
      "settled in Mewar and surrounding region. ¢ The Parmar became\n",
      "powerful in Athurna and Abu during the 10 century AD. e The\n",
      "Chauhans started to re-establish their reign in regions such as\n",
      "Jalore, Ranthambhore and Hadoti in 13\" centuary AD with the\n",
      "authority constantly being challenged of erosion. SP-21, Above\n",
      "Canara Bank, Near Riddhi-Siddhi Chauraha, Gopalpura Bypass,\n",
      "Jaipur-9875170111, 9414988860\n",
      "Samyak Raj. His. Art & Cult. (Mains-2018) An Institute For Civil\n",
      "Services 4 Ancient regions of Rajasthan The region we today know\n",
      "\n",
      "\n",
      "as Rajasthan was never considered as a single state of entity in\n",
      "ancient time. It was better known as the various states and\n",
      "Janpadas in the region. George Thomas used the word Rajputana\n",
      "for the first time in 1800 AD. Famous Author Col. James Todd for\n",
      "the first time used the term Raythan or Rajasthan for the region in\n",
      "his book titled Annals and activities of Rajasthan in 1829. The same\n",
      "term was continued after the independence of India. e Jangal Desh:\n",
      "Bikaner and Jodhpur; the king was known as Jangaldhar Badshah. e\n",
      "Sapaldaksh: Ajmer and Central Nagore; ruled over by Chauhans. e\n",
      "Shursen: east Alwar state, Bharatpur state, Dholpur and Karauli\n",
      "state; Capital: Mathura e Matsya: southern and western alwar state;\n",
      "capital: Viratnagar. e Kuru: Northern Alwar state; capital:\n",
      "Indraprasth. e Shiv: Udaipur state; capita: Madhyamika; the region\n",
      "had influence of Mev people; the region also known as Medpat or\n",
      "Pragvat. e Maru: the region aroung Jodhpur state; the southern part\n",
      "was known as Gurjaratra. e WVangad: Dungarpur, Banswara region;\n",
      "e Aburd: Sirohi state e Maad: Jaisalmer state e Hadoti: Kota and\n",
      "Bundi state ¢ Malay: Parts of southern Jhalawar Ancient\n",
      "Civilisations e There is no evidence for when and how humans at\n",
      "first place emerged in Rajasthan, but the ancient remains have been\n",
      "found in the many regions and river vallys i.e. Ajmer, Alwar,\n",
      "Chittorgarh, Bhilwara, Jaipur, Pali, Tonk etc. e Palaeo lithic age:\n",
      "Chittor and surrounding region has most abundant bunch of tools\n",
      "belonging to this region. The Luni Basin also contains remnants for\n",
      "this era. e Meso-lithic age: Luni and its tributaries, Bedach and its\n",
      "tributaries in Chittor. e Neo-lithic age: Bagore and Tilwara; Ajmer,\n",
      "Nagore, Sikar, Kota, Bundi, Tonk etc. Bronz-Age (Kalibanga): e This\n",
      "region was situated in current day Hanumangarh on the shore of\n",
      "ancient rivers of Sararwati and Drishdwati around 2400-2250 BC. e\n",
      "Contains pre, mature and later harappan cultural evidences. It\n",
      "contains one of the oldest agricultural lands belonging to pre-\n",
      "harappan culture. e Personal and Public drainage facility, city\n",
      "cleanliness and pots to store garbage were parts of the\n",
      "extraordinary system. e The firealtars found are example of\n",
      "presence of religious society. e The script found on the eartern pots\n",
      "and seals, is similar to the Indus valley script, which is still un-\n",
      "ciphered. e Many agricultural tools made from bronze are also\n",
      "found. e Contains two regions, eastern region with the common\n",
      "people settlement and western region fortified citadel. Both the\n",
      "regions are fortified with a common wall. Ahar civilization: e\n",
      "\n",
      "\n",
      "Originated in the Ayar river valley region in south-western\n",
      "Rajasthan around 4000 years ago. The region was constantly\n",
      "flourished and destroyed till the 18\" century. SP-21, Above Canara\n",
      "Bank, Near Riddhi-Siddhi Chauraha, Gopalpura Bypass,\n",
      "Jaipur-9875170111, 9414988860\n",
      "Samyak Raj. His. Art & Cult. (Mains-2018) An Institute For Civil\n",
      "Services 5 e It was part of the Banas river civilization. This region\n",
      "flourished due to presence of copper mines in the surrounding\n",
      "region. The Dhulkot excavation site has found so far copper axes,\n",
      "tools, bones and Bamboo parts. e City Plan: The houses were\n",
      "planned to have open space and open streets. The presence of 4 to 6\n",
      "Chulhas represents presence of large families. e Trade and relations:\n",
      "Presence of Greek coins belonging to 3 to 1\" century BC from\n",
      "Bagore and surrounding region. The civilization also kept close\n",
      "contacts with peripheral regions such as Navdatoli, Harappa,\n",
      "Naagda, Eran, Kaytha etc. Bairath civilization: e The region around\n",
      "Jaipur is identified with the region as the capital Viratnagar of\n",
      "Matsya Janpada. e The primitive hills of this region are Bijak\n",
      "Dungri, Moti Dungri, Bhim Dungri etc. The Bhabru Edict of Ashoka\n",
      "was discovered by Captain Bert on Bijak Dungri. e Buddhism:\n",
      "remains of Stupa and Budda temple (Gol Mandir). e Chinese pilgrim\n",
      "Huen-tsang has also mentioned Bairath in his records. Other\n",
      "civilizations found in Ganeshwarm Khetri, Dariba, Ojhiyana, Kurada\n",
      "etc also contains evidences such as copper tools and weapons.\n",
      "Sunari, Iswal, Jodhpura, Red etc belong to the Iron Age civilization.\n",
      "Rajasthan in Post-Gupta Age: e After the fall of Gupta Empire there\n",
      "was a deficiency in the central power and the republics of\n",
      "rajastahan declared them independent. e There were constant\n",
      "attacks from the invaders and from within the region. The Shaka\n",
      "invasion led by Mihirkul almost destroyed the already fragile lack\n",
      "of authority situation. Yashovarman of Malva was successful in\n",
      "defeating Shakas or Hunas in 532 AD, which brought peace to the\n",
      "region but the region could never emerge out of the devastation. e\n",
      "Rajasthan was constantly in the process of cultural infusion from\n",
      "outside and by 6™ century the foreigners got so much mingled with\n",
      "the locals that it gets hard to tell the difference since then. Previous\n",
      "Year Questions Q. Ancient city which is mentioned in both\n",
      "Mahabharata and Mahabhashya? (RAS Pre 2016) A. Virat nagar\n",
      "(Bairath) B. Madhyamika (Nagri) C. Red D. Kakort Q. During which\n",
      "\n",
      "\n",
      "of the following rulers the Delhi Shivalik sthambh edict was placed?\n",
      "(RAS Pre 2013 held on 31-10-15) A. Arnoraj B. Vigraharaj IV C.\n",
      "Prithviraj II D. Prithviraj UI Q. What is the Significance of Ghosundi\n",
      "Inscription? (RAS MAINS 2016) SP-21, Above Canara Bank, Near\n",
      "Riddhi-Siddhi Chauraha, Gopalpura Bypass, Jaipur-9875170111,\n",
      "9414988860\n",
      "\n"
     ]
    }
   ],
   "source": [
    "def formate_doc(docs):\n",
    "    return \"\\n\\n\".join([doc.page_content for doc in docs])\n",
    "print(formate_doc(docs))"
   ]
  },
  {
   "cell_type": "code",
   "execution_count": 123,
   "metadata": {},
   "outputs": [],
   "source": [
    "retriver = new_vector_store.as_retriever(\n",
    "    search_type=\"mmr\",\n",
    "    search_kwargs={\n",
    "        'k':3,\n",
    "        'fetch_k':100,\n",
    "        'lambda_mult':1\n",
    "    }\n",
    ")"
   ]
  },
  {
   "cell_type": "code",
   "execution_count": 124,
   "metadata": {},
   "outputs": [],
   "source": [
    "rag_chain = (\n",
    "    {\n",
    "        'context':retriver | formate_doc,\n",
    "        'question':RunnablePassthrough(),\n",
    "    } | prompt | model | StrOutputParser()\n",
    ")"
   ]
  },
  {
   "cell_type": "code",
   "execution_count": 125,
   "metadata": {},
   "outputs": [
    {
     "name": "stdout",
     "output_type": "stream",
     "text": [
      "Here is the answer:\n",
      "\n",
      "• Madhyamika (Nagri)\n"
     ]
    }
   ],
   "source": [
    "question = \"Ancient city which is mentioned in both Mahabharata and Mahabhashya?(RAS Pre 2016)A. Virat nagar (Bairath)B. Madhyamika (Nagri)C. RedD. Kakort\"\n",
    "try:\n",
    "\tres = rag_chain.invoke(question)\n",
    "\tprint(res)\n",
    "except Exception as e:\n",
    "\tprint(f\"An error occurred: {e}\")"
   ]
  }
 ],
 "metadata": {
  "kernelspec": {
   "display_name": "Python 3",
   "language": "python",
   "name": "python3"
  },
  "language_info": {
   "codemirror_mode": {
    "name": "ipython",
    "version": 3
   },
   "file_extension": ".py",
   "mimetype": "text/x-python",
   "name": "python",
   "nbconvert_exporter": "python",
   "pygments_lexer": "ipython3",
   "version": "3.10.14"
  }
 },
 "nbformat": 4,
 "nbformat_minor": 2
}
